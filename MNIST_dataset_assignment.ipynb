{
  "nbformat": 4,
  "nbformat_minor": 0,
  "metadata": {
    "colab": {
      "name": "MNIST_assignment.ipynb",
      "provenance": [],
      "collapsed_sections": []
    },
    "kernelspec": {
      "name": "python3",
      "display_name": "Python 3"
    }
  },
  "cells": [
    {
      "cell_type": "code",
      "metadata": {
        "id": "_17_ZnVDhCd0",
        "colab_type": "code",
        "colab": {}
      },
      "source": [
        "import torch\n",
        "import torch.nn as nn\n",
        "import torchvision.transforms as transforms\n",
        "import torchvision.datasets as dsets\n",
        "from torchvision import models\n",
        "from torchsummary import summary\n",
        "from torch import nn,optim\n",
        "import torch.nn.functional as F\n",
        "import numpy as np\n",
        "import pandas as pd"
      ],
      "execution_count": 0,
      "outputs": []
    },
    {
      "cell_type": "code",
      "metadata": {
        "id": "lb2lrOr7hbdx",
        "colab_type": "code",
        "colab": {}
      },
      "source": [
        "'''\n",
        "STEP 1: LOADING DATASET\n",
        "'''\n",
        "\n",
        "train_dataset = dsets.MNIST(root='./data', \n",
        "                            train=True, \n",
        "                            transform=transforms.ToTensor(),\n",
        "                            download=True)\n",
        "\n",
        "test_dataset = dsets.MNIST(root='./data', \n",
        "                           train=False, \n",
        "                           transform=transforms.ToTensor())\n"
      ],
      "execution_count": 0,
      "outputs": []
    },
    {
      "cell_type": "code",
      "metadata": {
        "id": "7IN2iQv5hbi9",
        "colab_type": "code",
        "colab": {}
      },
      "source": [
        "'''\n",
        "STEP 2: MAKING DATASET ITERABLE\n",
        "'''\n",
        "\n",
        "batch_size = 100\n",
        "num_epochs = 10\n",
        "n_iters = num_epochs*(len(train_dataset)/ batch_size)\n",
        "n_iters = int(n_iters)\n",
        "\n",
        "train_loader = torch.utils.data.DataLoader(dataset=train_dataset, \n",
        "                                           batch_size=batch_size, \n",
        "                                           shuffle=True)\n",
        "\n",
        "test_loader = torch.utils.data.DataLoader(dataset=test_dataset, \n",
        "                                          batch_size=batch_size, \n",
        "                                          shuffle=False)"
      ],
      "execution_count": 0,
      "outputs": []
    },
    {
      "cell_type": "code",
      "metadata": {
        "id": "fD_LJ06Mh0re",
        "colab_type": "code",
        "colab": {}
      },
      "source": [
        "class Network(nn.Module):\n",
        "    def __init__(self):\n",
        "        super().__init__()\n",
        "        self.fc1 = nn.Linear(784, 40)\n",
        "        self.fc2 = nn.Linear(40, 40)\n",
        "        self.fc3 = nn.Linear(40, 40)\n",
        "        self.fc4 = nn.Linear(40, 10)\n",
        "\n",
        "        # Dropout module with 0.2 drop probability\n",
        "        self.dropout = nn.Dropout(p=0.2)\n",
        "\n",
        "    def forward(self, x):\n",
        "        # make sure input tensor is flattened\n",
        "        x = x.view(x.shape[0], -1)\n",
        "\n",
        "        # Now with dropout\n",
        "        x = self.dropout(F.relu(self.fc1(x)))\n",
        "        x = self.dropout(F.relu(self.fc2(x)))\n",
        "        x = self.dropout(F.relu(self.fc3(x)))\n",
        "\n",
        "        # output so no dropout here\n",
        "        x = F.log_softmax(self.fc4(x), dim=1)\n",
        "\n",
        "        return x\n",
        "        \n",
        "model=Network()\n",
        "#optimizer=optim.Adam(model.parameters(),lr=0.01)\n",
        "#optimizer=optim.SGD(model.parameters(), lr=0.02, momentum=0.9)\n",
        "optimizer=optim.SGD(model.parameters(),lr=3e-2,weight_decay=1e-6, momentum=0.9, nesterov=True)\n",
        "#optimizer=optim.SGD(model.parameters(),lr=3e-2)\n",
        "criterion=nn.NLLLoss()"
      ],
      "execution_count": 0,
      "outputs": []
    },
    {
      "cell_type": "code",
      "metadata": {
        "id": "OY0PFehch0ye",
        "colab_type": "code",
        "outputId": "4a7c603d-6fd2-41f9-ab72-c5302fd04719",
        "colab": {
          "base_uri": "https://localhost:8080/",
          "height": 187
        }
      },
      "source": [
        "## Train\n",
        "\n",
        "epochs=num_epochs\n",
        "train_losses,test_losses=[],[]\n",
        "for e in range(epochs):\n",
        "    running_loss=0\n",
        "    for images,labels in train_loader:\n",
        "        optimizer.zero_grad()\n",
        "        log_ps=model(images)\n",
        "        loss=criterion(log_ps,labels)\n",
        "        loss.backward()\n",
        "        optimizer.step()\n",
        "        running_loss+=loss.item()\n",
        "        \n",
        "    else:\n",
        "        test_loss=0\n",
        "        accuracy=0\n",
        "        \n",
        "        with torch.no_grad():\n",
        "            model.eval()\n",
        "            for images,labels in test_loader:\n",
        "                log_ps=model(images)\n",
        "                test_loss+=criterion(log_ps,labels)\n",
        "                ps=torch.exp(log_ps)\n",
        "                top_p,top_class=ps.topk(1,dim=1)\n",
        "                equals=top_class==labels.view(*top_class.shape)\n",
        "                accuracy+=torch.mean(equals.type(torch.FloatTensor))\n",
        "        model.train()\n",
        "        train_losses.append(running_loss/len(train_loader))\n",
        "        test_losses.append(test_loss/len(test_loader))\n",
        "\n",
        "        print(\"Epoch: {}/{}.. \".format(e+1, epochs),\n",
        "              \"Training Loss: {:.3f}.. \".format(running_loss/len(train_loader)),\n",
        "              \"Test Loss: {:.3f}.. \".format(test_loss/len(test_loader)),\n",
        "              \"Test Accuracy: {:.3f}\".format(accuracy/len(test_loader)))"
      ],
      "execution_count": 104,
      "outputs": [
        {
          "output_type": "stream",
          "text": [
            "Epoch: 1/10..  Training Loss: 0.772..  Test Loss: 0.241..  Test Accuracy: 0.929\n",
            "Epoch: 2/10..  Training Loss: 0.349..  Test Loss: 0.182..  Test Accuracy: 0.947\n",
            "Epoch: 3/10..  Training Loss: 0.294..  Test Loss: 0.169..  Test Accuracy: 0.950\n",
            "Epoch: 4/10..  Training Loss: 0.265..  Test Loss: 0.154..  Test Accuracy: 0.955\n",
            "Epoch: 5/10..  Training Loss: 0.244..  Test Loss: 0.141..  Test Accuracy: 0.957\n",
            "Epoch: 6/10..  Training Loss: 0.231..  Test Loss: 0.139..  Test Accuracy: 0.960\n",
            "Epoch: 7/10..  Training Loss: 0.224..  Test Loss: 0.141..  Test Accuracy: 0.959\n",
            "Epoch: 8/10..  Training Loss: 0.215..  Test Loss: 0.132..  Test Accuracy: 0.962\n",
            "Epoch: 9/10..  Training Loss: 0.208..  Test Loss: 0.129..  Test Accuracy: 0.961\n",
            "Epoch: 10/10..  Training Loss: 0.202..  Test Loss: 0.118..  Test Accuracy: 0.964\n"
          ],
          "name": "stdout"
        }
      ]
    },
    {
      "cell_type": "code",
      "metadata": {
        "id": "3E8zhFoDh0wf",
        "colab_type": "code",
        "outputId": "8d0d3b1c-fae1-4473-c364-be867e850957",
        "colab": {
          "base_uri": "https://localhost:8080/",
          "height": 187
        }
      },
      "source": [
        "print(\"Our model: \\n\\n\", model, '\\n')"
      ],
      "execution_count": 69,
      "outputs": [
        {
          "output_type": "stream",
          "text": [
            "Our model: \n",
            "\n",
            " Network(\n",
            "  (fc1): Linear(in_features=784, out_features=50, bias=True)\n",
            "  (fc2): Linear(in_features=50, out_features=50, bias=True)\n",
            "  (fc3): Linear(in_features=50, out_features=50, bias=True)\n",
            "  (fc4): Linear(in_features=50, out_features=10, bias=True)\n",
            "  (dropout): Dropout(p=0.1, inplace=False)\n",
            ") \n",
            "\n"
          ],
          "name": "stdout"
        }
      ]
    },
    {
      "cell_type": "code",
      "metadata": {
        "id": "KcKQXMVCeJTe",
        "colab_type": "code",
        "colab": {
          "base_uri": "https://localhost:8080/",
          "height": 285
        },
        "outputId": "6e5e4a09-dfee-4f84-a6cf-ec8221ab1a28"
      },
      "source": [
        "import matplotlib.pyplot as plt\n",
        "%matplotlib inline\n",
        "plt.plot(train_losses, label='Training loss')\n",
        "plt.plot(test_losses, label='test loss')\n",
        "plt.legend(frameon=False)"
      ],
      "execution_count": 107,
      "outputs": [
        {
          "output_type": "execute_result",
          "data": {
            "text/plain": [
              "<matplotlib.legend.Legend at 0x7efc3a50bfd0>"
            ]
          },
          "metadata": {
            "tags": []
          },
          "execution_count": 107
        },
        {
          "output_type": "display_data",
          "data": {
            "image/png": "[encoded data removed]",
            "text/plain": [
              "<Figure size 432x288 with 1 Axes>"
            ]
          },
          "metadata": {
            "tags": []
          }
        }
      ]
    },
    {
      "cell_type": "code",
      "metadata": {
        "id": "M5usIV2Uh0pn",
        "colab_type": "code",
        "outputId": "6aa4fea2-ef3e-4c30-c927-6ac1f083bace",
        "colab": {
          "base_uri": "https://localhost:8080/",
          "height": 34
        }
      },
      "source": [
        "pytorch_total_params = sum(p.numel() for p in model.parameters())\n",
        "pytorch_total_params"
      ],
      "execution_count": 105,
      "outputs": [
        {
          "output_type": "execute_result",
          "data": {
            "text/plain": [
              "35090"
            ]
          },
          "metadata": {
            "tags": []
          },
          "execution_count": 105
        }
      ]
    },
    {
      "cell_type": "code",
      "metadata": {
        "id": "tS8KGFlpp8JV",
        "colab_type": "code",
        "outputId": "c59fad2e-8c5a-49d8-8681-f9378c932f5f",
        "colab": {
          "base_uri": "https://localhost:8080/",
          "height": 34
        }
      },
      "source": [
        "#pytorch_total_params = sum(p.numel() for p in model.parameters() if p.requires_grad)\n",
        "pytorch_trainable_params= sum(p.numel() for p in model.parameters() if p.requires_grad)\n",
        "pytorch_trainable_params"
      ],
      "execution_count": 73,
      "outputs": [
        {
          "output_type": "execute_result",
          "data": {
            "text/plain": [
              "44860"
            ]
          },
          "metadata": {
            "tags": []
          },
          "execution_count": 73
        }
      ]
    }
  ]
}